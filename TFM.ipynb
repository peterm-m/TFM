{
  "nbformat": 4,
  "nbformat_minor": 0,
  "metadata": {
    "colab": {
      "name": "Selvar.ipynb",
      "provenance": [],
      "collapsed_sections": []
    },
    "kernelspec": {
      "name": "python3",
      "display_name": "Python 3"
    }
  },
  "cells": [
    {
      "cell_type": "code",
      "metadata": {
        "id": "BLjBxIkva_Jb",
        "colab_type": "code",
        "colab": {}
      },
      "source": [
        "import numpy as np\n",
        "import sys\n",
        "\n",
        "#X[TIEMPO,VARIABLE]\n",
        "\n",
        "\n",
        "\n",
        "def selvar_python(X,maxlag,bs,itmax):\n",
        "  (t_max,d)=X.shape\n",
        "  lags=np.zeros((d,d))\n",
        "  scores=np.zeros((d,d))\n",
        "\n",
        "  for i in range(d):\n",
        "    response=X[maxlag+1:t_max,:]\n",
        "    prss=getscore(X,lags,i,maxlag,bs,t_max,d,'PRSS')\n",
        "\n",
        "    iteracion=0\n",
        "    while True:\n",
        "      iteracion+=1\n",
        "      if iteracion>=itmax:\n",
        "        break\n",
        "      (sel,lagsel,nuevo_prss)=mejor_actualizacion(X,i,t_max,d,prss,lags)\n",
        "      if sel>0:\n",
        "        lags[i,sel]=lagsel\n",
        "      if sel==0:\n",
        "        break\n",
        "    scores[i,:]=puntuaciones(X,lags,i,maxlag,bs,t_max,d)\n",
        "  return scores\n",
        "\n",
        "\n",
        "\n",
        "def mejor_actualizacion(X,x_i,t_max,d,prss,lags):\n",
        "  '''\n",
        "  Input:\n",
        "    X datos\n",
        "    x_i variable a estimar\n",
        "    t_max tiempo maximo\n",
        "    d numero de variables\n",
        "    press puntuacion mejor modelo\n",
        "    lags lags del modelo \n",
        "  Output:\n",
        "    sel: variable seleccionada\n",
        "    l:lag seleccionado\n",
        "    nuevo_prss: mejor puntuacion\n",
        "  '''\n",
        "  sel=0\n",
        "  for j in range(d):\n",
        "    for l in range(1,maxlag):\n",
        "      if j==i or lags[i,j]==l:\n",
        "        continue\n",
        "      tmp=lags[i,j]\n",
        "      lags[i,j]=l\n",
        "      nuevo_prss=getscore(X,lags,i,maxlag,bs,t_max,d,'PRSS')  \n",
        "      if nuevo_prss<prss:\n",
        "        (sel,lagsel,prss)=(j,l,nuevo_prss)\n",
        "      lags[i,j]=tmp\n",
        "    return sel,lagsel,nuevo_prss\n",
        "\n",
        "\n",
        "def getscore(X , lags, x_i, maxlag, bs,t_max,d, tipo, variable='nada'):\n",
        "  '''\n",
        "  Input:\n",
        "datos = valores de las series temporales\n",
        "lags  = lags del modelo para la variable x_i\n",
        "x_i   = variable a predecir\n",
        "maxlag= valor maximo del lag\n",
        "tipo= RSS  o  PRSS\n",
        "variable= si es necesario quitar alguna variable del modelo.\n",
        "  Output:\n",
        "prss= predicted RSS  para la variable.\n",
        "  '''\n",
        "  if (maxlag>t_max or maxlag<1): maxlag=1\n",
        "  if (bs<0): bs=(t_max-maxlab)/(-bs)\n",
        "  if (bs>(t_max-maxlag)): bs=t_max-maxlag\n",
        "  if variable!='nada':\n",
        "    lags[x_i,variable]=0\n",
        "\n",
        "  score_modelo=0\n",
        "  epochs=int((t_max-maxlag)/bs)\n",
        "  lags=lags[x_i,:]\n",
        "\n",
        "\n",
        "  for epoch in range(epochs):\n",
        "\n",
        "    inicio=maxlag+epoch*bs\n",
        "    final =maxlag+(epoch+1)*bs\n",
        "\n",
        "    X_i=X[inicio :final,x_i]\n",
        "\n",
        "    X_modelo=X[:,lags>0]\n",
        "    lags=lags[lags>0]\n",
        "    X_js=np.zeros((bs,X_modelo.shape[0]))\n",
        "\n",
        "    for x_j in range(X_modelo.shape[1]):\n",
        "      X_js[:,x_j]=X[inicio-lags[x_i,x_j]:final-lags[x_i,x_j],x_j]\n",
        "\n",
        "    score_modelo = score_modelo+score(X_js,X_i,tipo)\n",
        "  return score\n",
        "\n",
        "\n",
        "\n",
        "\n",
        "def score(X,Y,tipo):\n",
        "  '''\n",
        "  Input:\n",
        "  X atributos\n",
        "  Y clases\n",
        "  tipo RSS o PRSS\n",
        "\n",
        "\n",
        "  Y=X*b+a\n",
        "  H=X*inv(X.T*X)*X.T\n",
        "  Y_pred=H*Y\n",
        "\n",
        "  PRESS=sum((e_i/(1-h_i))^2)\n",
        "\n",
        "  e_i=y-y_pred\n",
        "  h_i=autovalor h_i\n",
        "  '''\n",
        "  N=Y.shape[0]\n",
        "  try:\n",
        "    H=np.dot(X,np.dot(np.linalg.inv(np.dot(X.T,X)),X.T))\n",
        "  except:\n",
        "    X=X+0.00001*np.random.rand(X.shape[0],X.shape[1])\n",
        "    H=np.dot(X,np.dot(np.linalg.inv(np.dot(X.T,X)),X.T))\n",
        "  e=Y-np.dot(H,Y)\n",
        "\n",
        "  if tipo=='RSS':\n",
        "    return np.dot(e,np.conj(e))\n",
        "  if tipo=='PRSS':\n",
        "    h=1-np.linalg.eigvals(H)\n",
        "    E=e/h \n",
        "    PRSS=np.dot(E,np.conj(E))/N\n",
        "  return PRSS\n",
        "\n",
        "def puntuaciones(X,lags,i,maxlag,bs,t_max,d):\n",
        "  scores=np.zeros(d)\n",
        "  score=getscore(X,lags,i,maxlag,bs,t_max,d,'RSS')\n",
        "  for j in range(d):\n",
        "    if j==i:\n",
        "      continue\n",
        "    if lags[i,j]>0:\n",
        "      scores[j]=getscore(X,lags,i,maxlag,bs,t_max,d,'RSS',j)-score\n",
        "  return scores\n",
        "  "
      ],
      "execution_count": 0,
      "outputs": []
    },
    {
      "cell_type": "code",
      "metadata": {
        "id": "NgwbeP3pSW2E",
        "colab_type": "code",
        "colab": {}
      },
      "source": [
        "X=np.random.rand(10000,10)\n"
      ],
      "execution_count": 0,
      "outputs": []
    },
    {
      "cell_type": "code",
      "metadata": {
        "id": "qQoNWaBxT5h4",
        "colab_type": "code",
        "colab": {}
      },
      "source": [
        "selvar_python(X,10,100,100)"
      ],
      "execution_count": 0,
      "outputs": []
    },
    {
      "cell_type": "code",
      "metadata": {
        "id": "YwdB1lpKcnYE",
        "colab_type": "code",
        "colab": {
          "base_uri": "https://localhost:8080/",
          "height": 201
        },
        "outputId": "6d697f71-08b7-4dc0-9bec-e5f7c6c28be0"
      },
      "source": [
        "a=np.random.rand(10,10)\n",
        "a=np.identity(10)\n",
        "print(a)\n",
        "np.linalg.eigvals(a)\n",
        "\n"
      ],
      "execution_count": 54,
      "outputs": [
        {
          "output_type": "stream",
          "text": [
            "[[1. 0. 0. 0. 0. 0. 0. 0. 0. 0.]\n",
            " [0. 1. 0. 0. 0. 0. 0. 0. 0. 0.]\n",
            " [0. 0. 1. 0. 0. 0. 0. 0. 0. 0.]\n",
            " [0. 0. 0. 1. 0. 0. 0. 0. 0. 0.]\n",
            " [0. 0. 0. 0. 1. 0. 0. 0. 0. 0.]\n",
            " [0. 0. 0. 0. 0. 1. 0. 0. 0. 0.]\n",
            " [0. 0. 0. 0. 0. 0. 1. 0. 0. 0.]\n",
            " [0. 0. 0. 0. 0. 0. 0. 1. 0. 0.]\n",
            " [0. 0. 0. 0. 0. 0. 0. 0. 1. 0.]\n",
            " [0. 0. 0. 0. 0. 0. 0. 0. 0. 1.]]\n"
          ],
          "name": "stdout"
        },
        {
          "output_type": "execute_result",
          "data": {
            "text/plain": [
              "array([1., 1., 1., 1., 1., 1., 1., 1., 1., 1.])"
            ]
          },
          "metadata": {
            "tags": []
          },
          "execution_count": 54
        }
      ]
    },
    {
      "cell_type": "code",
      "metadata": {
        "id": "MEZr4tHL7a7_",
        "colab_type": "code",
        "colab": {
          "base_uri": "https://localhost:8080/",
          "height": 84
        },
        "outputId": "4d4b088a-8453-4e79-a7f9-6bb72c761548"
      },
      "source": [
        "x=np.random.rand(10,10)\n",
        "h=1-np.linalg.eigvals(x)\n",
        "y=np.random.rand(10)\n",
        "\n",
        "a=y/h\n",
        "\n",
        "print(a)\n"
      ],
      "execution_count": 78,
      "outputs": [
        {
          "output_type": "stream",
          "text": [
            "[-0.25560927-0.j          0.13106861+0.00795868j  0.18464655-0.01121202j\n",
            "  0.71154765+0.71406015j  0.5152808 -0.51710028j  0.07733669+0.01417018j\n",
            "  0.5136494 -0.09411447j  0.71925557+0.j          0.59292963+0.j\n",
            "  0.21642907+0.j        ]\n"
          ],
          "name": "stdout"
        }
      ]
    }
  ]
}